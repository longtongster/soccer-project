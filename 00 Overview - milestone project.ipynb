{
 "cells": [
  {
   "cell_type": "markdown",
   "id": "037b1e82",
   "metadata": {},
   "source": [
    "# Intro \n",
    "\n",
    "use as starting point:\n",
    "\n",
    "https://www.youtube.com/watch?v=Nt7WJa2iu0s\n",
    "\n",
    "## outline\n",
    "\n",
    "### ETL\n",
    "\n",
    "- folder `setup postgres database`:\n",
    "    - setup up a postgress database container that persists data on disk\n",
    "    - pgadmin to look into the container\n",
    "    - use sqlalchemy to interact with the database\n",
    "- scrape soccer matches scores from the internet\n",
    "    - use beautifull soup\n",
    "\n",
    "### Feature engineering and predicting\n",
    "- some sources use statistics of the game to predict the outcome of this game. **THIS IS NOT WHAT WE WANT.** Basicaly we want to predict the outcome of the coming match based on the data that is given before the match. This means you want to have a features that captures the teams form (e.g. have they been winning the last matches), do they play home or away what are the results of the last x matches between these teams.(see [how to predict soccer matches](https://spottis.com/sports/how-to-predict-football-matches-more-correctly/))\n",
    "- Given the above we really have some work in preparing the data. The idea is to create one row per match that includes the features above. Only once we have a sensible dataset we can start running simple regressions\n",
    "- start simple but maybe we can include player stats as. Theoretically you could usse the player stats against thresholds to determine a player stats (a bit like playstation fifa). \n",
    "- see advanced keras on datacamp chapter 2 to model team strength. \n",
    "    - The idea is to model team strengh through and embedding layer. subtract the output of the embedding layer of both teams and fit this to the score difference.\n",
    "    - the difference in goals can be used as an indicator for the team strengt (the stronger the team the more likey a larger difference)\n",
    "    - Note that using the same embedding layer to estimate team strenght will assume that team strength will not depend on wether the are home or away team (**assumption 1**)\n",
    "- resources to investigate\n",
    "    - https://medium.com/geekculture/building-a-simple-football-prediction-model-using-machine-learning-f061e607bec5\n",
    "\n"
   ]
  },
  {
   "cell_type": "code",
   "execution_count": null,
   "id": "f45443e4",
   "metadata": {},
   "outputs": [],
   "source": []
  }
 ],
 "metadata": {
  "kernelspec": {
   "display_name": "Python 3 (ipykernel)",
   "language": "python",
   "name": "python3"
  },
  "language_info": {
   "codemirror_mode": {
    "name": "ipython",
    "version": 3
   },
   "file_extension": ".py",
   "mimetype": "text/x-python",
   "name": "python",
   "nbconvert_exporter": "python",
   "pygments_lexer": "ipython3",
   "version": "3.10.6"
  }
 },
 "nbformat": 4,
 "nbformat_minor": 5
}
