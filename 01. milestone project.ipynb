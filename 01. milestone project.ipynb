{
 "cells": [
  {
   "cell_type": "markdown",
   "id": "037b1e82",
   "metadata": {},
   "source": [
    "# Intro \n",
    "\n",
    "use as starting point:\n",
    "\n",
    "https://www.youtube.com/watch?v=Nt7WJa2iu0s\n",
    "\n",
    "## outline\n",
    "\n",
    "### ETL\n",
    "\n",
    "1. Setup a postgres database container - go to directory `setup postgress container`\n",
    "- store this a postgress database\n",
    "    - setup a postgress container with persistent data\n",
    "    - use sqlalchemy\n",
    "- scrape soccer matches scores from the internet\n",
    "    - use beautifull soup\n",
    "\n",
    "### Feature engineering and predicting\n",
    "- current idea is to use scikit learn\n",
    "\n"
   ]
  },
  {
   "cell_type": "code",
   "execution_count": null,
   "id": "f45443e4",
   "metadata": {},
   "outputs": [],
   "source": []
  }
 ],
 "metadata": {
  "kernelspec": {
   "display_name": "Python 3 (ipykernel)",
   "language": "python",
   "name": "python3"
  },
  "language_info": {
   "codemirror_mode": {
    "name": "ipython",
    "version": 3
   },
   "file_extension": ".py",
   "mimetype": "text/x-python",
   "name": "python",
   "nbconvert_exporter": "python",
   "pygments_lexer": "ipython3",
   "version": "3.10.6"
  }
 },
 "nbformat": 4,
 "nbformat_minor": 5
}
